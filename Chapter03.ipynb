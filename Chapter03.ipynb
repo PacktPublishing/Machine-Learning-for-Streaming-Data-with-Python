{
 "cells": [
  {
   "cell_type": "code",
   "execution_count": null,
   "id": "3e48ee00-724d-45c2-92f3-3117acb4e27b",
   "metadata": {},
   "outputs": [],
   "source": [
    "values = [10,8,12,11,7,10,8,9,12,11,10]\n",
    "\n",
    "import numpy as np\n",
    "np.mean(values)\n"
   ]
  },
  {
   "cell_type": "code",
   "execution_count": null,
   "id": "c89ac30b-8d12-49c8-aa53-0abfe8986cf2",
   "metadata": {},
   "outputs": [],
   "source": [
    "values = [10,8,12,11,7,10,8,9,12,11,10]\n",
    "\n",
    "import numpy as np\n",
    "np.median(values)\n"
   ]
  },
  {
   "cell_type": "code",
   "execution_count": null,
   "id": "6f1cf4c2-47f7-4284-92a0-1e33b664d82e",
   "metadata": {},
   "outputs": [],
   "source": [
    "values = [10,8,12,11,7,10,8,9,12,11,10]\n",
    "\n",
    "import statistics\n",
    "statistics.mode(values)\n"
   ]
  },
  {
   "cell_type": "code",
   "execution_count": null,
   "id": "9084ae4f-33ca-48aa-a520-19702b7d233b",
   "metadata": {},
   "outputs": [],
   "source": [
    "values = [10,8,12,11,7,10,8,9,12,11,10]\n",
    "\n",
    "import numpy as np\n",
    "np.std(values, ddof=1)\n"
   ]
  },
  {
   "cell_type": "code",
   "execution_count": null,
   "id": "96f38aef-67b0-4457-b98a-d50fa709ad16",
   "metadata": {},
   "outputs": [],
   "source": [
    "values = [10,8,12,11,7,10,8,9,12,11,10]\n",
    "\n",
    "import numpy as np\n",
    "np.var(values, ddof=1)\n"
   ]
  },
  {
   "cell_type": "code",
   "execution_count": null,
   "id": "b7392c95-fdbe-42b5-a290-247fc6fc1481",
   "metadata": {},
   "outputs": [],
   "source": [
    "values = [10,8,12,11,7,10,8,9,12,11,10]\n",
    "\n",
    "import scipy.stats\n",
    "scipy.stats.iqr(values)\n"
   ]
  },
  {
   "cell_type": "code",
   "execution_count": null,
   "id": "146fafd7-1482-4d96-b8a6-aef694a74b07",
   "metadata": {},
   "outputs": [],
   "source": [
    "values_x = [10,8,12,11,7,10,8,9,12,11,10]\n",
    "values_y = [12,9,11,11,8,11,9,10,14,10,9]\n",
    "\n",
    "import numpy as np\n",
    "np.corrcoef(values_x,values_y)\n"
   ]
  },
  {
   "cell_type": "code",
   "execution_count": null,
   "id": "693c9ebe-b4e5-424b-a880-017306c0f05a",
   "metadata": {},
   "outputs": [],
   "source": [
    "import pandas as pd\n",
    "data_batch = pd.DataFrame({\n",
    "    'temperature': [10, 11, 10, 11, 12, 11, 10, 9, 10, 11, 12, 11, 9, 12, 11],\n",
    "    'pH': [5, 5.5, 6, 5, 4.5, 5, 4.5, 5, 4.5, 5, 4, 4.5, 5, 4.5, 6]\n",
    "})\n",
    "\n",
    "data_batch\n"
   ]
  },
  {
   "cell_type": "code",
   "execution_count": null,
   "id": "e624d0af-f287-477f-b8d2-41bbc0eddf26",
   "metadata": {},
   "outputs": [],
   "source": [
    "def super_simple_alert(datapoint):\n",
    "    if datapoint[‘temperature’] < 10:\n",
    "        print(‘this is a real time alert. Temp too low’)\n",
    "    if datapoint[‘pH’] > 5.5:\n",
    "        print(‘this is a real time alert. pH too high’)\n",
    "\n",
    "data_iterable = data_batch.iterrows()\n",
    "\n",
    "for i,new_datapoint in data_iterable:\n",
    "    print(new_datapoint.to_json())\n",
    "    \n",
    "    super_simple_alert(new_datapoint)"
   ]
  },
  {
   "cell_type": "code",
   "execution_count": null,
   "id": "0e80faa2-fc16-4e29-baa2-8569adc55a99",
   "metadata": {},
   "outputs": [],
   "source": [
    "import numpy as np\n",
    "def super_simple_alert(hist_datapoints):\n",
    "    print(hist_datapoints)\n",
    "    if np.mean(hist_datapoints['temperature']) < 10:\n",
    "        print('this is a real time alert. temp too low')\n",
    "    if np.mean(hist_datapoints['pH']) > 5.5:\n",
    "        print('this is a real time alert. pH too high')\n",
    "\n",
    "data_iterable = data_batch.iterrows()\n",
    "\n",
    "# create historization for window\n",
    "hist_temp = []\n",
    "hist_ph = []\n",
    "\n",
    "for i,new_datapoint in data_iterable:\n",
    "\n",
    "    hist_temp.append([new_datapoint['temperature']])\n",
    "    hist_ph.append([new_datapoint['pH']])\n",
    "\n",
    "    hist_datapoint = {\n",
    "      'temperature': hist_temp[-3:],\n",
    "      'pH': hist_ph[-3:]\n",
    "    }\n",
    "\n",
    "    super_simple_alert(hist_datapoint)\n"
   ]
  },
  {
   "cell_type": "code",
   "execution_count": null,
   "id": "14e8bcfb-6300-4e57-a522-c79677329b33",
   "metadata": {},
   "outputs": [],
   "source": [
    "import numpy as np\n",
    "def super_simple_alert(hist_datapoints):\n",
    "    print(hist_datapoints)\n",
    "    if np.std(hist_datapoints['temperature']) > 1:\n",
    "        print('this is a real time alert. temp variations too high')\n",
    "    if np.std(hist_datapoints['pH']) > 1:\n",
    "        print('this is a real time alert. pH variations too high')\n",
    "\n",
    "data_iterable = data_batch.iterrows()\n",
    "\n",
    "# create historization for window\n",
    "hist_temp = []\n",
    "hist_ph = []\n",
    "\n",
    "for i,new_datapoint in data_iterable:\n",
    "\n",
    "    hist_temp.append([new_datapoint['temperature']])\n",
    "    hist_ph.append([new_datapoint['pH']])\n",
    "\n",
    "    hist_datapoint = {\n",
    "      'temperature': hist_temp[-3:],\n",
    "      'pH': hist_ph[-3:]\n",
    "    }\n",
    "\n",
    "    super_simple_alert(hist_datapoint)\n"
   ]
  },
  {
   "cell_type": "code",
   "execution_count": null,
   "id": "4fb6407b-f8e3-4adf-8eb0-19024f28decd",
   "metadata": {},
   "outputs": [],
   "source": []
  },
  {
   "cell_type": "code",
   "execution_count": null,
   "id": "5819d5e0-701a-41c3-ae88-e359db9298c7",
   "metadata": {},
   "outputs": [],
   "source": []
  }
 ],
 "metadata": {
  "kernelspec": {
   "display_name": "Python 3",
   "language": "python",
   "name": "python3"
  },
  "language_info": {
   "codemirror_mode": {
    "name": "ipython",
    "version": 3
   },
   "file_extension": ".py",
   "mimetype": "text/x-python",
   "name": "python",
   "nbconvert_exporter": "python",
   "pygments_lexer": "ipython3",
   "version": "3.8.8"
  }
 },
 "nbformat": 4,
 "nbformat_minor": 5
}
