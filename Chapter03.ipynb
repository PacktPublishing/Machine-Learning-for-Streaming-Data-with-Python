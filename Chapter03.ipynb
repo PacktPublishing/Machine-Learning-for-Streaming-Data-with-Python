{
 "cells": [
  {
   "cell_type": "code",
   "execution_count": 1,
   "id": "3e48ee00-724d-45c2-92f3-3117acb4e27b",
   "metadata": {},
   "outputs": [
    {
     "data": {
      "text/plain": [
       "9.818181818181818"
      ]
     },
     "execution_count": 1,
     "metadata": {},
     "output_type": "execute_result"
    }
   ],
   "source": [
    "values = [10, 8, 12, 11, 7, 10, 8, 9, 12, 11, 10]\n",
    "\n",
    "import numpy as np\n",
    "\n",
    "np.mean(values)"
   ]
  },
  {
   "cell_type": "code",
   "execution_count": 2,
   "id": "c89ac30b-8d12-49c8-aa53-0abfe8986cf2",
   "metadata": {},
   "outputs": [
    {
     "data": {
      "text/plain": [
       "10.0"
      ]
     },
     "execution_count": 2,
     "metadata": {},
     "output_type": "execute_result"
    }
   ],
   "source": [
    "values = [10, 8, 12, 11, 7, 10, 8, 9, 12, 11, 10]\n",
    "\n",
    "import numpy as np\n",
    "\n",
    "np.median(values)"
   ]
  },
  {
   "cell_type": "code",
   "execution_count": 3,
   "id": "6f1cf4c2-47f7-4284-92a0-1e33b664d82e",
   "metadata": {},
   "outputs": [
    {
     "data": {
      "text/plain": [
       "10"
      ]
     },
     "execution_count": 3,
     "metadata": {},
     "output_type": "execute_result"
    }
   ],
   "source": [
    "values = [10, 8, 12, 11, 7, 10, 8, 9, 12, 11, 10]\n",
    "\n",
    "import statistics\n",
    "\n",
    "statistics.mode(values)"
   ]
  },
  {
   "cell_type": "code",
   "execution_count": 4,
   "id": "9084ae4f-33ca-48aa-a520-19702b7d233b",
   "metadata": {},
   "outputs": [
    {
     "data": {
      "text/plain": [
       "1.6624188291872668"
      ]
     },
     "execution_count": 4,
     "metadata": {},
     "output_type": "execute_result"
    }
   ],
   "source": [
    "values = [10, 8, 12, 11, 7, 10, 8, 9, 12, 11, 10]\n",
    "\n",
    "import numpy as np\n",
    "\n",
    "np.std(values, ddof=1)"
   ]
  },
  {
   "cell_type": "code",
   "execution_count": 5,
   "id": "96f38aef-67b0-4457-b98a-d50fa709ad16",
   "metadata": {},
   "outputs": [
    {
     "data": {
      "text/plain": [
       "2.7636363636363632"
      ]
     },
     "execution_count": 5,
     "metadata": {},
     "output_type": "execute_result"
    }
   ],
   "source": [
    "values = [10, 8, 12, 11, 7, 10, 8, 9, 12, 11, 10]\n",
    "\n",
    "import numpy as np\n",
    "\n",
    "np.var(values, ddof=1)"
   ]
  },
  {
   "cell_type": "code",
   "execution_count": 6,
   "id": "b7392c95-fdbe-42b5-a290-247fc6fc1481",
   "metadata": {},
   "outputs": [
    {
     "data": {
      "text/plain": [
       "2.5"
      ]
     },
     "execution_count": 6,
     "metadata": {},
     "output_type": "execute_result"
    }
   ],
   "source": [
    "values = [10, 8, 12, 11, 7, 10, 8, 9, 12, 11, 10]\n",
    "\n",
    "import scipy.stats\n",
    "\n",
    "scipy.stats.iqr(values)"
   ]
  },
  {
   "cell_type": "code",
   "execution_count": 7,
   "id": "146fafd7-1482-4d96-b8a6-aef694a74b07",
   "metadata": {},
   "outputs": [
    {
     "data": {
      "text/plain": [
       "array([[1.        , 0.77356406],\n",
       "       [0.77356406, 1.        ]])"
      ]
     },
     "execution_count": 7,
     "metadata": {},
     "output_type": "execute_result"
    }
   ],
   "source": [
    "values_x = [10, 8, 12, 11, 7, 10, 8, 9, 12, 11, 10]\n",
    "values_y = [12, 9, 11, 11, 8, 11, 9, 10, 14, 10, 9]\n",
    "\n",
    "import numpy as np\n",
    "\n",
    "np.corrcoef(values_x, values_y)"
   ]
  },
  {
   "cell_type": "code",
   "execution_count": 8,
   "id": "693c9ebe-b4e5-424b-a880-017306c0f05a",
   "metadata": {},
   "outputs": [
    {
     "data": {
      "text/html": [
       "<div>\n",
       "<style scoped>\n",
       "    .dataframe tbody tr th:only-of-type {\n",
       "        vertical-align: middle;\n",
       "    }\n",
       "\n",
       "    .dataframe tbody tr th {\n",
       "        vertical-align: top;\n",
       "    }\n",
       "\n",
       "    .dataframe thead th {\n",
       "        text-align: right;\n",
       "    }\n",
       "</style>\n",
       "<table border=\"1\" class=\"dataframe\">\n",
       "  <thead>\n",
       "    <tr style=\"text-align: right;\">\n",
       "      <th></th>\n",
       "      <th>temperature</th>\n",
       "      <th>pH</th>\n",
       "    </tr>\n",
       "  </thead>\n",
       "  <tbody>\n",
       "    <tr>\n",
       "      <th>0</th>\n",
       "      <td>10</td>\n",
       "      <td>5.0</td>\n",
       "    </tr>\n",
       "    <tr>\n",
       "      <th>1</th>\n",
       "      <td>11</td>\n",
       "      <td>5.5</td>\n",
       "    </tr>\n",
       "    <tr>\n",
       "      <th>2</th>\n",
       "      <td>10</td>\n",
       "      <td>6.0</td>\n",
       "    </tr>\n",
       "    <tr>\n",
       "      <th>3</th>\n",
       "      <td>11</td>\n",
       "      <td>5.0</td>\n",
       "    </tr>\n",
       "    <tr>\n",
       "      <th>4</th>\n",
       "      <td>12</td>\n",
       "      <td>4.5</td>\n",
       "    </tr>\n",
       "    <tr>\n",
       "      <th>5</th>\n",
       "      <td>11</td>\n",
       "      <td>5.0</td>\n",
       "    </tr>\n",
       "    <tr>\n",
       "      <th>6</th>\n",
       "      <td>10</td>\n",
       "      <td>4.5</td>\n",
       "    </tr>\n",
       "    <tr>\n",
       "      <th>7</th>\n",
       "      <td>9</td>\n",
       "      <td>5.0</td>\n",
       "    </tr>\n",
       "    <tr>\n",
       "      <th>8</th>\n",
       "      <td>10</td>\n",
       "      <td>4.5</td>\n",
       "    </tr>\n",
       "    <tr>\n",
       "      <th>9</th>\n",
       "      <td>11</td>\n",
       "      <td>5.0</td>\n",
       "    </tr>\n",
       "    <tr>\n",
       "      <th>10</th>\n",
       "      <td>12</td>\n",
       "      <td>4.0</td>\n",
       "    </tr>\n",
       "    <tr>\n",
       "      <th>11</th>\n",
       "      <td>11</td>\n",
       "      <td>4.5</td>\n",
       "    </tr>\n",
       "    <tr>\n",
       "      <th>12</th>\n",
       "      <td>9</td>\n",
       "      <td>5.0</td>\n",
       "    </tr>\n",
       "    <tr>\n",
       "      <th>13</th>\n",
       "      <td>12</td>\n",
       "      <td>4.5</td>\n",
       "    </tr>\n",
       "    <tr>\n",
       "      <th>14</th>\n",
       "      <td>11</td>\n",
       "      <td>6.0</td>\n",
       "    </tr>\n",
       "  </tbody>\n",
       "</table>\n",
       "</div>"
      ],
      "text/plain": [
       "    temperature   pH\n",
       "0            10  5.0\n",
       "1            11  5.5\n",
       "2            10  6.0\n",
       "3            11  5.0\n",
       "4            12  4.5\n",
       "5            11  5.0\n",
       "6            10  4.5\n",
       "7             9  5.0\n",
       "8            10  4.5\n",
       "9            11  5.0\n",
       "10           12  4.0\n",
       "11           11  4.5\n",
       "12            9  5.0\n",
       "13           12  4.5\n",
       "14           11  6.0"
      ]
     },
     "execution_count": 8,
     "metadata": {},
     "output_type": "execute_result"
    }
   ],
   "source": [
    "import pandas as pd\n",
    "\n",
    "data_batch = pd.DataFrame(\n",
    "    {\n",
    "        \"temperature\": [10, 11, 10, 11, 12, 11, 10, 9, 10, 11, 12, 11, 9, 12, 11],\n",
    "        \"pH\": [5, 5.5, 6, 5, 4.5, 5, 4.5, 5, 4.5, 5, 4, 4.5, 5, 4.5, 6],\n",
    "    }\n",
    ")\n",
    "\n",
    "data_batch"
   ]
  },
  {
   "cell_type": "code",
   "execution_count": 9,
   "id": "e624d0af-f287-477f-b8d2-41bbc0eddf26",
   "metadata": {},
   "outputs": [
    {
     "name": "stdout",
     "output_type": "stream",
     "text": [
      "{\"temperature\":10.0,\"pH\":5.0}\n",
      "{\"temperature\":11.0,\"pH\":5.5}\n",
      "{\"temperature\":10.0,\"pH\":6.0}\n",
      "this is a real time alert. pH too high\n",
      "{\"temperature\":11.0,\"pH\":5.0}\n",
      "{\"temperature\":12.0,\"pH\":4.5}\n",
      "{\"temperature\":11.0,\"pH\":5.0}\n",
      "{\"temperature\":10.0,\"pH\":4.5}\n",
      "{\"temperature\":9.0,\"pH\":5.0}\n",
      "this is a real time alert. Temp too low\n",
      "{\"temperature\":10.0,\"pH\":4.5}\n",
      "{\"temperature\":11.0,\"pH\":5.0}\n",
      "{\"temperature\":12.0,\"pH\":4.0}\n",
      "{\"temperature\":11.0,\"pH\":4.5}\n",
      "{\"temperature\":9.0,\"pH\":5.0}\n",
      "this is a real time alert. Temp too low\n",
      "{\"temperature\":12.0,\"pH\":4.5}\n",
      "{\"temperature\":11.0,\"pH\":6.0}\n",
      "this is a real time alert. pH too high\n"
     ]
    }
   ],
   "source": [
    "def super_simple_alert(datapoint):\n",
    "    if datapoint[\"temperature\"] < 10:\n",
    "        print(\"this is a real time alert. Temp too low\")\n",
    "    if datapoint[\"pH\"] > 5.5:\n",
    "        print(\"this is a real time alert. pH too high\")\n",
    "\n",
    "\n",
    "data_iterable = data_batch.iterrows()\n",
    "\n",
    "for i, new_datapoint in data_iterable:\n",
    "    print(new_datapoint.to_json())\n",
    "\n",
    "    super_simple_alert(new_datapoint)"
   ]
  },
  {
   "cell_type": "code",
   "execution_count": 10,
   "id": "0e80faa2-fc16-4e29-baa2-8569adc55a99",
   "metadata": {},
   "outputs": [
    {
     "name": "stdout",
     "output_type": "stream",
     "text": [
      "{'temperature': [[10.0]], 'pH': [[5.0]]}\n",
      "{'temperature': [[10.0], [11.0]], 'pH': [[5.0], [5.5]]}\n",
      "{'temperature': [[10.0], [11.0], [10.0]], 'pH': [[5.0], [5.5], [6.0]]}\n",
      "{'temperature': [[11.0], [10.0], [11.0]], 'pH': [[5.5], [6.0], [5.0]]}\n",
      "{'temperature': [[10.0], [11.0], [12.0]], 'pH': [[6.0], [5.0], [4.5]]}\n",
      "{'temperature': [[11.0], [12.0], [11.0]], 'pH': [[5.0], [4.5], [5.0]]}\n",
      "{'temperature': [[12.0], [11.0], [10.0]], 'pH': [[4.5], [5.0], [4.5]]}\n",
      "{'temperature': [[11.0], [10.0], [9.0]], 'pH': [[5.0], [4.5], [5.0]]}\n",
      "{'temperature': [[10.0], [9.0], [10.0]], 'pH': [[4.5], [5.0], [4.5]]}\n",
      "this is a real time alert. temp too low\n",
      "{'temperature': [[9.0], [10.0], [11.0]], 'pH': [[5.0], [4.5], [5.0]]}\n",
      "{'temperature': [[10.0], [11.0], [12.0]], 'pH': [[4.5], [5.0], [4.0]]}\n",
      "{'temperature': [[11.0], [12.0], [11.0]], 'pH': [[5.0], [4.0], [4.5]]}\n",
      "{'temperature': [[12.0], [11.0], [9.0]], 'pH': [[4.0], [4.5], [5.0]]}\n",
      "{'temperature': [[11.0], [9.0], [12.0]], 'pH': [[4.5], [5.0], [4.5]]}\n",
      "{'temperature': [[9.0], [12.0], [11.0]], 'pH': [[5.0], [4.5], [6.0]]}\n"
     ]
    }
   ],
   "source": [
    "import numpy as np\n",
    "\n",
    "\n",
    "def super_simple_alert(hist_datapoints):\n",
    "    print(hist_datapoints)\n",
    "    if np.mean(hist_datapoints[\"temperature\"]) < 10:\n",
    "        print(\"this is a real time alert. temp too low\")\n",
    "    if np.mean(hist_datapoints[\"pH\"]) > 5.5:\n",
    "        print(\"this is a real time alert. pH too high\")\n",
    "\n",
    "\n",
    "data_iterable = data_batch.iterrows()\n",
    "\n",
    "# create historization for window\n",
    "hist_temp = []\n",
    "hist_ph = []\n",
    "\n",
    "for i, new_datapoint in data_iterable:\n",
    "    hist_temp.append([new_datapoint[\"temperature\"]])\n",
    "    hist_ph.append([new_datapoint[\"pH\"]])\n",
    "\n",
    "    hist_datapoint = {\"temperature\": hist_temp[-3:], \"pH\": hist_ph[-3:]}\n",
    "\n",
    "    super_simple_alert(hist_datapoint)"
   ]
  },
  {
   "cell_type": "code",
   "execution_count": 11,
   "id": "14e8bcfb-6300-4e57-a522-c79677329b33",
   "metadata": {
    "tags": []
   },
   "outputs": [
    {
     "name": "stdout",
     "output_type": "stream",
     "text": [
      "{'temperature': [[10.0]], 'pH': [[5.0]]}\n",
      "{'temperature': [[10.0], [11.0]], 'pH': [[5.0], [5.5]]}\n",
      "{'temperature': [[10.0], [11.0], [10.0]], 'pH': [[5.0], [5.5], [6.0]]}\n",
      "{'temperature': [[11.0], [10.0], [11.0]], 'pH': [[5.5], [6.0], [5.0]]}\n",
      "{'temperature': [[10.0], [11.0], [12.0]], 'pH': [[6.0], [5.0], [4.5]]}\n",
      "{'temperature': [[11.0], [12.0], [11.0]], 'pH': [[5.0], [4.5], [5.0]]}\n",
      "{'temperature': [[12.0], [11.0], [10.0]], 'pH': [[4.5], [5.0], [4.5]]}\n",
      "{'temperature': [[11.0], [10.0], [9.0]], 'pH': [[5.0], [4.5], [5.0]]}\n",
      "{'temperature': [[10.0], [9.0], [10.0]], 'pH': [[4.5], [5.0], [4.5]]}\n",
      "{'temperature': [[9.0], [10.0], [11.0]], 'pH': [[5.0], [4.5], [5.0]]}\n",
      "{'temperature': [[10.0], [11.0], [12.0]], 'pH': [[4.5], [5.0], [4.0]]}\n",
      "{'temperature': [[11.0], [12.0], [11.0]], 'pH': [[5.0], [4.0], [4.5]]}\n",
      "{'temperature': [[12.0], [11.0], [9.0]], 'pH': [[4.0], [4.5], [5.0]]}\n",
      "this is a real time alert. temp variations too high\n",
      "{'temperature': [[11.0], [9.0], [12.0]], 'pH': [[4.5], [5.0], [4.5]]}\n",
      "this is a real time alert. temp variations too high\n",
      "{'temperature': [[9.0], [12.0], [11.0]], 'pH': [[5.0], [4.5], [6.0]]}\n",
      "this is a real time alert. temp variations too high\n"
     ]
    }
   ],
   "source": [
    "import numpy as np\n",
    "\n",
    "\n",
    "def super_simple_alert(hist_datapoints):\n",
    "    print(hist_datapoints)\n",
    "    if np.std(hist_datapoints[\"temperature\"]) > 1:\n",
    "        print(\"this is a real time alert. temp variations too high\")\n",
    "    if np.std(hist_datapoints[\"pH\"]) > 1:\n",
    "        print(\"this is a real time alert. pH variations too high\")\n",
    "\n",
    "\n",
    "data_iterable = data_batch.iterrows()\n",
    "\n",
    "# create historization for window\n",
    "hist_temp = []\n",
    "hist_ph = []\n",
    "\n",
    "for i, new_datapoint in data_iterable:\n",
    "    hist_temp.append([new_datapoint[\"temperature\"]])\n",
    "    hist_ph.append([new_datapoint[\"pH\"]])\n",
    "\n",
    "    hist_datapoint = {\"temperature\": hist_temp[-3:], \"pH\": hist_ph[-3:]}\n",
    "\n",
    "    super_simple_alert(hist_datapoint)"
   ]
  }
 ],
 "metadata": {
  "kernelspec": {
   "display_name": "Python 3 (ipykernel)",
   "language": "python",
   "name": "python3"
  },
  "language_info": {
   "codemirror_mode": {
    "name": "ipython",
    "version": 3
   },
   "file_extension": ".py",
   "mimetype": "text/x-python",
   "name": "python",
   "nbconvert_exporter": "python",
   "pygments_lexer": "ipython3",
   "version": "3.10.9"
  }
 },
 "nbformat": 4,
 "nbformat_minor": 5
}
