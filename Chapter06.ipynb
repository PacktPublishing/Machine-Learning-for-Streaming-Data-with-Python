{
 "cells": [
  {
   "cell_type": "code",
   "execution_count": 1,
   "id": "6ac90368-4736-44e0-8488-27c553556f12",
   "metadata": {
    "tags": []
   },
   "outputs": [
    {
     "data": {
      "text/html": [
       "<div>\n",
       "<style scoped>\n",
       "    .dataframe tbody tr th:only-of-type {\n",
       "        vertical-align: middle;\n",
       "    }\n",
       "\n",
       "    .dataframe tbody tr th {\n",
       "        vertical-align: top;\n",
       "    }\n",
       "\n",
       "    .dataframe thead th {\n",
       "        text-align: right;\n",
       "    }\n",
       "</style>\n",
       "<table border=\"1\" class=\"dataframe\">\n",
       "  <thead>\n",
       "    <tr style=\"text-align: right;\">\n",
       "      <th></th>\n",
       "      <th>can_speak</th>\n",
       "      <th>has_feathers</th>\n",
       "      <th>is_human</th>\n",
       "    </tr>\n",
       "  </thead>\n",
       "  <tbody>\n",
       "    <tr>\n",
       "      <th>0</th>\n",
       "      <td>True</td>\n",
       "      <td>False</td>\n",
       "      <td>True</td>\n",
       "    </tr>\n",
       "    <tr>\n",
       "      <th>1</th>\n",
       "      <td>True</td>\n",
       "      <td>False</td>\n",
       "      <td>True</td>\n",
       "    </tr>\n",
       "    <tr>\n",
       "      <th>2</th>\n",
       "      <td>True</td>\n",
       "      <td>False</td>\n",
       "      <td>True</td>\n",
       "    </tr>\n",
       "    <tr>\n",
       "      <th>3</th>\n",
       "      <td>True</td>\n",
       "      <td>False</td>\n",
       "      <td>True</td>\n",
       "    </tr>\n",
       "    <tr>\n",
       "      <th>4</th>\n",
       "      <td>True</td>\n",
       "      <td>False</td>\n",
       "      <td>True</td>\n",
       "    </tr>\n",
       "    <tr>\n",
       "      <th>5</th>\n",
       "      <td>True</td>\n",
       "      <td>True</td>\n",
       "      <td>False</td>\n",
       "    </tr>\n",
       "    <tr>\n",
       "      <th>6</th>\n",
       "      <td>True</td>\n",
       "      <td>True</td>\n",
       "      <td>False</td>\n",
       "    </tr>\n",
       "    <tr>\n",
       "      <th>7</th>\n",
       "      <td>False</td>\n",
       "      <td>False</td>\n",
       "      <td>False</td>\n",
       "    </tr>\n",
       "    <tr>\n",
       "      <th>8</th>\n",
       "      <td>False</td>\n",
       "      <td>False</td>\n",
       "      <td>False</td>\n",
       "    </tr>\n",
       "    <tr>\n",
       "      <th>9</th>\n",
       "      <td>False</td>\n",
       "      <td>False</td>\n",
       "      <td>False</td>\n",
       "    </tr>\n",
       "  </tbody>\n",
       "</table>\n",
       "</div>"
      ],
      "text/plain": [
       "   can_speak  has_feathers  is_human\n",
       "0       True         False      True\n",
       "1       True         False      True\n",
       "2       True         False      True\n",
       "3       True         False      True\n",
       "4       True         False      True\n",
       "5       True          True     False\n",
       "6       True          True     False\n",
       "7      False         False     False\n",
       "8      False         False     False\n",
       "9      False         False     False"
      ]
     },
     "execution_count": 1,
     "metadata": {},
     "output_type": "execute_result"
    }
   ],
   "source": [
    "import pandas as pd\n",
    "\n",
    "# example to classify human vs animal\n",
    "\n",
    "# dataset with one variable\n",
    "can_speak = [True, True, True, True, True, True, True, False, False, False]\n",
    "has_feathers = [False, False, False, False, False, True, True, False, False, False]\n",
    "is_human = [True, True, True, True, True, False, False, False, False, False]\n",
    "\n",
    "data = pd.DataFrame(\n",
    "    {\"can_speak\": can_speak, \"has_feathers\": has_feathers, \"is_human\": is_human}\n",
    ")\n",
    "data"
   ]
  },
  {
   "cell_type": "code",
   "execution_count": 2,
   "id": "ea92476b-e5a3-4c1e-acae-6313903b4b5a",
   "metadata": {
    "tags": []
   },
   "outputs": [
    {
     "name": "stdout",
     "output_type": "stream",
     "text": [
      "human\n",
      "human\n",
      "human\n",
      "human\n",
      "human\n",
      "not human\n",
      "not human\n",
      "not human\n",
      "not human\n",
      "not human\n"
     ]
    }
   ],
   "source": [
    "def self_made_decision_tree(observation):\n",
    "    if observation.can_speak:\n",
    "        if not observation.has_feathers:\n",
    "            return \"human\"\n",
    "\n",
    "    return \"not human\"\n",
    "\n",
    "\n",
    "for i, row in data.iterrows():\n",
    "    print(self_made_decision_tree(row))"
   ]
  },
  {
   "cell_type": "code",
   "execution_count": 3,
   "id": "20b32b4c-6ee0-424f-a965-f94da182f6a3",
   "metadata": {
    "tags": []
   },
   "outputs": [],
   "source": [
    "from sklearn.datasets import make_blobs\n",
    "\n",
    "X, y = make_blobs(shuffle=True, centers=2, n_samples=2000)"
   ]
  },
  {
   "cell_type": "code",
   "execution_count": 4,
   "id": "8d8c480c-0aae-4c8d-8e83-0dbaf95c10c3",
   "metadata": {
    "tags": []
   },
   "outputs": [
    {
     "data": {
      "text/plain": [
       "<matplotlib.collections.PathCollection at 0x153980640>"
      ]
     },
     "execution_count": 4,
     "metadata": {},
     "output_type": "execute_result"
    },
    {
     "data": {
      "image/png": "[encoded data removed]",
      "text/plain": [
       "<Figure size 640x480 with 1 Axes>"
      ]
     },
     "metadata": {},
     "output_type": "display_data"
    }
   ],
   "source": [
    "import matplotlib.pyplot as plt\n",
    "\n",
    "plt.scatter(X[:, 0], X[:, 1], c=y)"
   ]
  },
  {
   "cell_type": "code",
   "execution_count": 5,
   "id": "390bde08-21a7-4d3a-b7b9-4d5f9111a993",
   "metadata": {
    "tags": []
   },
   "outputs": [],
   "source": [
    "from sklearn.model_selection import train_test_split\n",
    "\n",
    "X_train, X_test, y_train, y_test = train_test_split(\n",
    "    X, y, test_size=0.33, random_state=42\n",
    ")"
   ]
  },
  {
   "cell_type": "code",
   "execution_count": 6,
   "id": "02d1179e-a9c4-4966-9332-9adcf2dad3b3",
   "metadata": {
    "tags": []
   },
   "outputs": [
    {
     "name": "stdout",
     "output_type": "stream",
     "text": [
      "Requirement already satisfied: river in /Users/chanhuizhihou/anaconda3/lib/python3.10/site-packages (0.18.0)\n",
      "Requirement already satisfied: numpy>=1.25.0 in /Users/chanhuizhihou/anaconda3/lib/python3.10/site-packages (from river) (1.25.0)\n",
      "Requirement already satisfied: scipy>=1.5 in /Users/chanhuizhihou/anaconda3/lib/python3.10/site-packages (from river) (1.11.1)\n",
      "Requirement already satisfied: pandas>=1.3 in /Users/chanhuizhihou/anaconda3/lib/python3.10/site-packages (from river) (1.5.3)\n",
      "Requirement already satisfied: python-dateutil>=2.8.1 in /Users/chanhuizhihou/anaconda3/lib/python3.10/site-packages (from pandas>=1.3->river) (2.8.2)\n",
      "Requirement already satisfied: pytz>=2020.1 in /Users/chanhuizhihou/anaconda3/lib/python3.10/site-packages (from pandas>=1.3->river) (2022.7)\n",
      "Requirement already satisfied: six>=1.5 in /Users/chanhuizhihou/anaconda3/lib/python3.10/site-packages (from python-dateutil>=2.8.1->pandas>=1.3->river) (1.16.0)\n"
     ]
    }
   ],
   "source": [
    "!pip install river\n",
    "from river import linear_model\n",
    "\n",
    "model = linear_model.LogisticRegression()\n",
    "\n",
    "for x_i, y_i in zip(X_train, y_train):\n",
    "    x_json = {\"val1\": x_i[0], \"val2\": x_i[1]}\n",
    "    # print(x_json, y_i)\n",
    "    model.learn_one(x_json, y_i)"
   ]
  },
  {
   "cell_type": "code",
   "execution_count": 7,
   "id": "e03b6b7d-af56-44d2-a075-c77dcfcb642e",
   "metadata": {
    "tags": []
   },
   "outputs": [],
   "source": [
    "import pandas as pd\n",
    "\n",
    "preds = model.predict_many(pd.DataFrame(X_test, columns=[\"val1\", \"val2\"]))"
   ]
  },
  {
   "cell_type": "code",
   "execution_count": 8,
   "id": "4dedb97b-112a-4789-a76c-c103fb8de693",
   "metadata": {
    "tags": []
   },
   "outputs": [
    {
     "data": {
      "text/plain": [
       "1.0"
      ]
     },
     "execution_count": 8,
     "metadata": {},
     "output_type": "execute_result"
    }
   ],
   "source": [
    "from sklearn.metrics import accuracy_score\n",
    "\n",
    "accuracy_score(y_test, preds)"
   ]
  },
  {
   "cell_type": "code",
   "execution_count": 9,
   "id": "f934e8a7-3401-4000-a938-178a1e72f74e",
   "metadata": {
    "tags": []
   },
   "outputs": [
    {
     "data": {
      "text/plain": [
       "0.896969696969697"
      ]
     },
     "execution_count": 9,
     "metadata": {},
     "output_type": "execute_result"
    }
   ],
   "source": [
    "# make data\n",
    "from sklearn.datasets import make_blobs\n",
    "\n",
    "X, y = make_blobs(shuffle=True, centers=2, n_samples=2000)\n",
    "\n",
    "# train test split\n",
    "from sklearn.model_selection import train_test_split\n",
    "\n",
    "X_train, X_test, y_train, y_test = train_test_split(\n",
    "    X, y, test_size=0.33, random_state=42\n",
    ")\n",
    "\n",
    "# build the model\n",
    "from river import linear_model\n",
    "\n",
    "model = linear_model.Perceptron()\n",
    "\n",
    "# fit the model\n",
    "for x_i, y_i in zip(X_train, y_train):\n",
    "    x_json = {\"val1\": x_i[0], \"val2\": x_i[1]}\n",
    "    model.learn_one(x_json, y_i)\n",
    "\n",
    "# predict on the test set\n",
    "import pandas as pd\n",
    "\n",
    "preds = model.predict_many(pd.DataFrame(X_test, columns=[\"val1\", \"val2\"]))\n",
    "\n",
    "# compute accuracy\n",
    "from sklearn.metrics import accuracy_score\n",
    "\n",
    "accuracy_score(y_test, preds)"
   ]
  },
  {
   "cell_type": "code",
   "execution_count": 10,
   "id": "5e7c0cee-16cf-497b-ab06-8c4c861d1f21",
   "metadata": {
    "tags": []
   },
   "outputs": [
    {
     "data": {
      "text/html": [
       "<div>\n",
       "<style scoped>\n",
       "    .dataframe tbody tr th:only-of-type {\n",
       "        vertical-align: middle;\n",
       "    }\n",
       "\n",
       "    .dataframe tbody tr th {\n",
       "        vertical-align: top;\n",
       "    }\n",
       "\n",
       "    .dataframe thead th {\n",
       "        text-align: right;\n",
       "    }\n",
       "</style>\n",
       "<table border=\"1\" class=\"dataframe\">\n",
       "  <thead>\n",
       "    <tr style=\"text-align: right;\">\n",
       "      <th></th>\n",
       "      <th>0</th>\n",
       "      <th>1</th>\n",
       "      <th>2</th>\n",
       "      <th>3</th>\n",
       "      <th>4</th>\n",
       "      <th>5</th>\n",
       "      <th>6</th>\n",
       "      <th>7</th>\n",
       "      <th>8</th>\n",
       "      <th>9</th>\n",
       "      <th>10</th>\n",
       "      <th>11</th>\n",
       "      <th>12</th>\n",
       "      <th>13</th>\n",
       "      <th>14</th>\n",
       "      <th>15</th>\n",
       "      <th>16</th>\n",
       "      <th>17</th>\n",
       "      <th>18</th>\n",
       "      <th>19</th>\n",
       "    </tr>\n",
       "  </thead>\n",
       "  <tbody>\n",
       "    <tr>\n",
       "      <th>0</th>\n",
       "      <td>0.134234</td>\n",
       "      <td>1.104324</td>\n",
       "      <td>-0.660616</td>\n",
       "      <td>0.660525</td>\n",
       "      <td>-1.288635</td>\n",
       "      <td>2.130574</td>\n",
       "      <td>-0.958056</td>\n",
       "      <td>-2.107453</td>\n",
       "      <td>-1.199574</td>\n",
       "      <td>1.126037</td>\n",
       "      <td>-0.528442</td>\n",
       "      <td>0.509655</td>\n",
       "      <td>-1.144283</td>\n",
       "      <td>-2.925442</td>\n",
       "      <td>0.255870</td>\n",
       "      <td>-0.499193</td>\n",
       "      <td>-0.310060</td>\n",
       "      <td>-2.885826</td>\n",
       "      <td>-1.052838</td>\n",
       "      <td>-0.003035</td>\n",
       "    </tr>\n",
       "    <tr>\n",
       "      <th>1</th>\n",
       "      <td>0.336561</td>\n",
       "      <td>-0.739351</td>\n",
       "      <td>-0.191947</td>\n",
       "      <td>-0.229936</td>\n",
       "      <td>-0.219842</td>\n",
       "      <td>0.915635</td>\n",
       "      <td>0.336317</td>\n",
       "      <td>-0.956718</td>\n",
       "      <td>0.697342</td>\n",
       "      <td>0.655775</td>\n",
       "      <td>0.486436</td>\n",
       "      <td>0.571279</td>\n",
       "      <td>1.767864</td>\n",
       "      <td>-1.787821</td>\n",
       "      <td>0.163087</td>\n",
       "      <td>-0.919557</td>\n",
       "      <td>-0.407398</td>\n",
       "      <td>-0.481362</td>\n",
       "      <td>-0.497593</td>\n",
       "      <td>0.090089</td>\n",
       "    </tr>\n",
       "    <tr>\n",
       "      <th>2</th>\n",
       "      <td>-0.337682</td>\n",
       "      <td>2.037338</td>\n",
       "      <td>-0.786884</td>\n",
       "      <td>-0.633105</td>\n",
       "      <td>0.343746</td>\n",
       "      <td>-0.159971</td>\n",
       "      <td>0.305212</td>\n",
       "      <td>-2.219110</td>\n",
       "      <td>1.288601</td>\n",
       "      <td>-0.325596</td>\n",
       "      <td>-0.798545</td>\n",
       "      <td>1.180940</td>\n",
       "      <td>-1.423012</td>\n",
       "      <td>0.842949</td>\n",
       "      <td>-0.036543</td>\n",
       "      <td>0.246404</td>\n",
       "      <td>-0.355350</td>\n",
       "      <td>-1.827162</td>\n",
       "      <td>0.472904</td>\n",
       "      <td>-1.417405</td>\n",
       "    </tr>\n",
       "    <tr>\n",
       "      <th>3</th>\n",
       "      <td>0.128248</td>\n",
       "      <td>-1.189404</td>\n",
       "      <td>0.711120</td>\n",
       "      <td>0.641658</td>\n",
       "      <td>0.781217</td>\n",
       "      <td>0.707919</td>\n",
       "      <td>-0.578751</td>\n",
       "      <td>0.335799</td>\n",
       "      <td>0.192593</td>\n",
       "      <td>1.004894</td>\n",
       "      <td>0.038438</td>\n",
       "      <td>-0.543284</td>\n",
       "      <td>0.303363</td>\n",
       "      <td>-1.131172</td>\n",
       "      <td>-0.779971</td>\n",
       "      <td>0.217698</td>\n",
       "      <td>0.445995</td>\n",
       "      <td>2.038118</td>\n",
       "      <td>0.972642</td>\n",
       "      <td>0.449776</td>\n",
       "    </tr>\n",
       "    <tr>\n",
       "      <th>4</th>\n",
       "      <td>0.143656</td>\n",
       "      <td>0.271578</td>\n",
       "      <td>-1.311982</td>\n",
       "      <td>-0.735079</td>\n",
       "      <td>0.605448</td>\n",
       "      <td>-1.063970</td>\n",
       "      <td>-0.618728</td>\n",
       "      <td>-0.497800</td>\n",
       "      <td>-0.606378</td>\n",
       "      <td>0.178062</td>\n",
       "      <td>0.802976</td>\n",
       "      <td>0.439929</td>\n",
       "      <td>-0.246992</td>\n",
       "      <td>1.060055</td>\n",
       "      <td>0.158202</td>\n",
       "      <td>-1.892830</td>\n",
       "      <td>-1.035042</td>\n",
       "      <td>0.236497</td>\n",
       "      <td>1.964678</td>\n",
       "      <td>1.797279</td>\n",
       "    </tr>\n",
       "  </tbody>\n",
       "</table>\n",
       "</div>"
      ],
      "text/plain": [
       "         0         1         2         3         4         5         6   \\\n",
       "0  0.134234  1.104324 -0.660616  0.660525 -1.288635  2.130574 -0.958056   \n",
       "1  0.336561 -0.739351 -0.191947 -0.229936 -0.219842  0.915635  0.336317   \n",
       "2 -0.337682  2.037338 -0.786884 -0.633105  0.343746 -0.159971  0.305212   \n",
       "3  0.128248 -1.189404  0.711120  0.641658  0.781217  0.707919 -0.578751   \n",
       "4  0.143656  0.271578 -1.311982 -0.735079  0.605448 -1.063970 -0.618728   \n",
       "\n",
       "         7         8         9         10        11        12        13  \\\n",
       "0 -2.107453 -1.199574  1.126037 -0.528442  0.509655 -1.144283 -2.925442   \n",
       "1 -0.956718  0.697342  0.655775  0.486436  0.571279  1.767864 -1.787821   \n",
       "2 -2.219110  1.288601 -0.325596 -0.798545  1.180940 -1.423012  0.842949   \n",
       "3  0.335799  0.192593  1.004894  0.038438 -0.543284  0.303363 -1.131172   \n",
       "4 -0.497800 -0.606378  0.178062  0.802976  0.439929 -0.246992  1.060055   \n",
       "\n",
       "         14        15        16        17        18        19  \n",
       "0  0.255870 -0.499193 -0.310060 -2.885826 -1.052838 -0.003035  \n",
       "1  0.163087 -0.919557 -0.407398 -0.481362 -0.497593  0.090089  \n",
       "2 -0.036543  0.246404 -0.355350 -1.827162  0.472904 -1.417405  \n",
       "3 -0.779971  0.217698  0.445995  2.038118  0.972642  0.449776  \n",
       "4  0.158202 -1.892830 -1.035042  0.236497  1.964678  1.797279  "
      ]
     },
     "execution_count": 10,
     "metadata": {},
     "output_type": "execute_result"
    }
   ],
   "source": [
    "# make data\n",
    "from sklearn.datasets import make_classification\n",
    "\n",
    "X, y = make_classification(shuffle=True, n_samples=2000)\n",
    "\n",
    "pd.DataFrame(X).head()"
   ]
  },
  {
   "cell_type": "code",
   "execution_count": 11,
   "id": "82236f33-cb59-405b-b69e-be8264760000",
   "metadata": {
    "tags": []
   },
   "outputs": [],
   "source": [
    "# train test split\n",
    "from sklearn.model_selection import train_test_split\n",
    "\n",
    "X_train, X_test, y_train, y_test = train_test_split(\n",
    "    X, y, test_size=0.33, random_state=42\n",
    ")"
   ]
  },
  {
   "cell_type": "code",
   "execution_count": 12,
   "id": "b507c152-0cc3-4893-a5bd-153f4723a731",
   "metadata": {
    "tags": []
   },
   "outputs": [],
   "source": [
    "from river import forest\n",
    "\n",
    "model = forest.ARFClassifier()\n",
    "\n",
    "# fit the model\n",
    "for x_i, y_i in zip(X_train, y_train):\n",
    "    x_json = {\"val\" + str(i): x for i, x in enumerate(x_i)}\n",
    "    model.learn_one(x_json, y_i)"
   ]
  },
  {
   "cell_type": "code",
   "execution_count": 13,
   "id": "45afda87-def7-45c4-b8ea-4eb21445f7a9",
   "metadata": {
    "tags": []
   },
   "outputs": [],
   "source": [
    "# predict on the test set\n",
    "import pandas as pd\n",
    "\n",
    "preds = []\n",
    "for x_i in X_test:\n",
    "    x_json = {\"val\" + str(i): x for i, x in enumerate(x_i)}\n",
    "    preds.append(model.predict_one(x_json))"
   ]
  },
  {
   "cell_type": "code",
   "execution_count": 14,
   "id": "47b12a82-263f-4bf6-8258-dcd9ceebd14d",
   "metadata": {
    "tags": []
   },
   "outputs": [
    {
     "data": {
      "text/plain": [
       "0.8787878787878788"
      ]
     },
     "execution_count": 14,
     "metadata": {},
     "output_type": "execute_result"
    }
   ],
   "source": [
    "# compute accuracy\n",
    "from sklearn.metrics import accuracy_score\n",
    "\n",
    "accuracy_score(y_test, preds)"
   ]
  },
  {
   "cell_type": "code",
   "execution_count": 15,
   "id": "64e34214-0895-4a1d-b08d-4cff1c18c4ba",
   "metadata": {
    "tags": []
   },
   "outputs": [
    {
     "name": "stdout",
     "output_type": "stream",
     "text": [
      "              precision    recall  f1-score   support\n",
      "\n",
      "           0       0.86      0.91      0.88       333\n",
      "           1       0.90      0.84      0.87       327\n",
      "\n",
      "    accuracy                           0.88       660\n",
      "   macro avg       0.88      0.88      0.88       660\n",
      "weighted avg       0.88      0.88      0.88       660\n",
      "\n"
     ]
    }
   ],
   "source": [
    "# classification report\n",
    "from sklearn.metrics import classification_report\n",
    "\n",
    "print(classification_report(y_test, preds))"
   ]
  },
  {
   "cell_type": "code",
   "execution_count": 16,
   "id": "e61cb939-9851-43e0-94c5-473c0597770f",
   "metadata": {
    "tags": []
   },
   "outputs": [
    {
     "data": {
      "text/plain": [
       "0.8303030303030303"
      ]
     },
     "execution_count": 16,
     "metadata": {},
     "output_type": "execute_result"
    }
   ],
   "source": [
    "# make data\n",
    "from sklearn.datasets import make_classification\n",
    "\n",
    "X, y = make_classification(shuffle=True, n_samples=2000)\n",
    "\n",
    "# train test split\n",
    "from sklearn.model_selection import train_test_split\n",
    "\n",
    "X_train, X_test, y_train, y_test = train_test_split(\n",
    "    X, y, test_size=0.33, random_state=42\n",
    ")\n",
    "\n",
    "from river import linear_model\n",
    "\n",
    "model = linear_model.ALMAClassifier()\n",
    "\n",
    "# fit the model\n",
    "for x_i, y_i in zip(X_train, y_train):\n",
    "    x_json = {\"val\" + str(i): x for i, x in enumerate(x_i)}\n",
    "    model.learn_one(x_json, y_i)\n",
    "\n",
    "# predict on the test set\n",
    "import pandas as pd\n",
    "\n",
    "preds = []\n",
    "for x_i in X_test:\n",
    "    x_json = {\"val\" + str(i): x for i, x in enumerate(x_i)}\n",
    "    preds.append(model.predict_one(x_json))\n",
    "\n",
    "# compute accuracy\n",
    "from sklearn.metrics import accuracy_score\n",
    "\n",
    "accuracy_score(y_test, preds)"
   ]
  },
  {
   "cell_type": "code",
   "execution_count": 17,
   "id": "eddaca08-fbe9-4ad9-9740-37c674d84c67",
   "metadata": {
    "tags": []
   },
   "outputs": [
    {
     "name": "stdout",
     "output_type": "stream",
     "text": [
      "              precision    recall  f1-score   support\n",
      "\n",
      "           0       0.81      0.84      0.83       314\n",
      "           1       0.85      0.82      0.83       346\n",
      "\n",
      "    accuracy                           0.83       660\n",
      "   macro avg       0.83      0.83      0.83       660\n",
      "weighted avg       0.83      0.83      0.83       660\n",
      "\n"
     ]
    }
   ],
   "source": [
    "# classification report\n",
    "from sklearn.metrics import classification_report\n",
    "\n",
    "print(classification_report(y_test, preds))"
   ]
  },
  {
   "cell_type": "code",
   "execution_count": 18,
   "id": "be2c82c5-0147-4365-aca6-776db2c21d40",
   "metadata": {
    "tags": []
   },
   "outputs": [
    {
     "data": {
      "text/plain": [
       "0.9424242424242424"
      ]
     },
     "execution_count": 18,
     "metadata": {},
     "output_type": "execute_result"
    }
   ],
   "source": [
    "# make data\n",
    "from sklearn.datasets import make_classification\n",
    "\n",
    "X, y = make_classification(shuffle=True, n_samples=2000)\n",
    "\n",
    "# train test split\n",
    "from sklearn.model_selection import train_test_split\n",
    "\n",
    "X_train, X_test, y_train, y_test = train_test_split(\n",
    "    X, y, test_size=0.33, random_state=42\n",
    ")\n",
    "\n",
    "from river import linear_model\n",
    "\n",
    "model = linear_model.PAClassifier()\n",
    "\n",
    "# fit the model\n",
    "for x_i, y_i in zip(X_train, y_train):\n",
    "    x_json = {\"val\" + str(i): x for i, x in enumerate(x_i)}\n",
    "    model.learn_one(x_json, y_i)\n",
    "\n",
    "# predict on the test set\n",
    "import pandas as pd\n",
    "\n",
    "preds = []\n",
    "for x_i in X_test:\n",
    "    x_json = {\"val\" + str(i): x for i, x in enumerate(x_i)}\n",
    "    preds.append(model.predict_one(x_json))\n",
    "\n",
    "# compute accuracy\n",
    "from sklearn.metrics import accuracy_score\n",
    "\n",
    "accuracy_score(y_test, preds)"
   ]
  }
 ],
 "metadata": {
  "kernelspec": {
   "display_name": "Python 3 (ipykernel)",
   "language": "python",
   "name": "python3"
  },
  "language_info": {
   "codemirror_mode": {
    "name": "ipython",
    "version": 3
   },
   "file_extension": ".py",
   "mimetype": "text/x-python",
   "name": "python",
   "nbconvert_exporter": "python",
   "pygments_lexer": "ipython3",
   "version": "3.10.9"
  }
 },
 "nbformat": 4,
 "nbformat_minor": 5
}
