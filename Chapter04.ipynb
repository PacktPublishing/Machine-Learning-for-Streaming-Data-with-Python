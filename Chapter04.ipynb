{
 "cells": [
  {
   "cell_type": "code",
   "execution_count": 1,
   "id": "aa24de18-c2c5-4536-90eb-78839bfcadd2",
   "metadata": {
    "tags": []
   },
   "outputs": [
    {
     "data": {
      "text/html": [
       "<div>\n",
       "<style scoped>\n",
       "    .dataframe tbody tr th:only-of-type {\n",
       "        vertical-align: middle;\n",
       "    }\n",
       "\n",
       "    .dataframe tbody tr th {\n",
       "        vertical-align: top;\n",
       "    }\n",
       "\n",
       "    .dataframe thead th {\n",
       "        text-align: right;\n",
       "    }\n",
       "</style>\n",
       "<table border=\"1\" class=\"dataframe\">\n",
       "  <thead>\n",
       "    <tr style=\"text-align: right;\">\n",
       "      <th></th>\n",
       "      <th>sepal_length</th>\n",
       "      <th>sepal_width</th>\n",
       "      <th>petal_length</th>\n",
       "      <th>petal_width</th>\n",
       "      <th>class</th>\n",
       "    </tr>\n",
       "  </thead>\n",
       "  <tbody>\n",
       "    <tr>\n",
       "      <th>0</th>\n",
       "      <td>5.1</td>\n",
       "      <td>3.5</td>\n",
       "      <td>1.4</td>\n",
       "      <td>0.2</td>\n",
       "      <td>Iris-setosa</td>\n",
       "    </tr>\n",
       "    <tr>\n",
       "      <th>1</th>\n",
       "      <td>4.9</td>\n",
       "      <td>3.0</td>\n",
       "      <td>1.4</td>\n",
       "      <td>0.2</td>\n",
       "      <td>Iris-setosa</td>\n",
       "    </tr>\n",
       "    <tr>\n",
       "      <th>2</th>\n",
       "      <td>4.7</td>\n",
       "      <td>3.2</td>\n",
       "      <td>1.3</td>\n",
       "      <td>0.2</td>\n",
       "      <td>Iris-setosa</td>\n",
       "    </tr>\n",
       "    <tr>\n",
       "      <th>3</th>\n",
       "      <td>4.6</td>\n",
       "      <td>3.1</td>\n",
       "      <td>1.5</td>\n",
       "      <td>0.2</td>\n",
       "      <td>Iris-setosa</td>\n",
       "    </tr>\n",
       "    <tr>\n",
       "      <th>4</th>\n",
       "      <td>5.0</td>\n",
       "      <td>3.6</td>\n",
       "      <td>1.4</td>\n",
       "      <td>0.2</td>\n",
       "      <td>Iris-setosa</td>\n",
       "    </tr>\n",
       "    <tr>\n",
       "      <th>...</th>\n",
       "      <td>...</td>\n",
       "      <td>...</td>\n",
       "      <td>...</td>\n",
       "      <td>...</td>\n",
       "      <td>...</td>\n",
       "    </tr>\n",
       "    <tr>\n",
       "      <th>145</th>\n",
       "      <td>6.7</td>\n",
       "      <td>3.0</td>\n",
       "      <td>5.2</td>\n",
       "      <td>2.3</td>\n",
       "      <td>Iris-virginica</td>\n",
       "    </tr>\n",
       "    <tr>\n",
       "      <th>146</th>\n",
       "      <td>6.3</td>\n",
       "      <td>2.5</td>\n",
       "      <td>5.0</td>\n",
       "      <td>1.9</td>\n",
       "      <td>Iris-virginica</td>\n",
       "    </tr>\n",
       "    <tr>\n",
       "      <th>147</th>\n",
       "      <td>6.5</td>\n",
       "      <td>3.0</td>\n",
       "      <td>5.2</td>\n",
       "      <td>2.0</td>\n",
       "      <td>Iris-virginica</td>\n",
       "    </tr>\n",
       "    <tr>\n",
       "      <th>148</th>\n",
       "      <td>6.2</td>\n",
       "      <td>3.4</td>\n",
       "      <td>5.4</td>\n",
       "      <td>2.3</td>\n",
       "      <td>Iris-virginica</td>\n",
       "    </tr>\n",
       "    <tr>\n",
       "      <th>149</th>\n",
       "      <td>5.9</td>\n",
       "      <td>3.0</td>\n",
       "      <td>5.1</td>\n",
       "      <td>1.8</td>\n",
       "      <td>Iris-virginica</td>\n",
       "    </tr>\n",
       "  </tbody>\n",
       "</table>\n",
       "<p>150 rows × 5 columns</p>\n",
       "</div>"
      ],
      "text/plain": [
       "     sepal_length  sepal_width  petal_length  petal_width           class\n",
       "0             5.1          3.5           1.4          0.2     Iris-setosa\n",
       "1             4.9          3.0           1.4          0.2     Iris-setosa\n",
       "2             4.7          3.2           1.3          0.2     Iris-setosa\n",
       "3             4.6          3.1           1.5          0.2     Iris-setosa\n",
       "4             5.0          3.6           1.4          0.2     Iris-setosa\n",
       "..            ...          ...           ...          ...             ...\n",
       "145           6.7          3.0           5.2          2.3  Iris-virginica\n",
       "146           6.3          2.5           5.0          1.9  Iris-virginica\n",
       "147           6.5          3.0           5.2          2.0  Iris-virginica\n",
       "148           6.2          3.4           5.4          2.3  Iris-virginica\n",
       "149           5.9          3.0           5.1          1.8  Iris-virginica\n",
       "\n",
       "[150 rows x 5 columns]"
      ]
     },
     "execution_count": 1,
     "metadata": {},
     "output_type": "execute_result"
    }
   ],
   "source": [
    "# iris dataset classification example\n",
    "import pandas as pd\n",
    "\n",
    "colnames = [\"sepal_length\", \"sepal_width\", \"petal_length\", \"petal_width\", \"class\"]\n",
    "data = pd.read_csv(\n",
    "    \"https://archive.ics.uci.edu/ml/machine-learning-databases/iris/iris.data\",\n",
    "    names=colnames,\n",
    ")\n",
    "data"
   ]
  },
  {
   "cell_type": "code",
   "execution_count": 2,
   "id": "7f459264-7175-4b9d-b11f-f99827052bc5",
   "metadata": {
    "tags": []
   },
   "outputs": [
    {
     "data": {
      "text/plain": [
       "0       True\n",
       "1       True\n",
       "2       True\n",
       "3       True\n",
       "4       True\n",
       "       ...  \n",
       "145    False\n",
       "146    False\n",
       "147    False\n",
       "148    False\n",
       "149    False\n",
       "Name: setosa, Length: 150, dtype: bool"
      ]
     },
     "execution_count": 2,
     "metadata": {},
     "output_type": "execute_result"
    }
   ],
   "source": [
    "data[\"setosa\"] = data[\"class\"] == \"Iris-setosa\"\n",
    "data[\"setosa\"]"
   ]
  },
  {
   "cell_type": "code",
   "execution_count": 3,
   "id": "26300152-4acc-45b6-9574-c29bc2765ab2",
   "metadata": {
    "tags": []
   },
   "outputs": [
    {
     "name": "stdout",
     "output_type": "stream",
     "text": [
      "{'sepal_length': 5.0, 'sepal_width': 3.5, 'petal_length': 1.3, 'petal_width': 0.3}\n",
      "True\n"
     ]
    }
   ],
   "source": [
    "# convert to streaming dataset\n",
    "for i, row in data.sample(1).iterrows():\n",
    "    X = row[[\"sepal_length\", \"sepal_width\", \"petal_length\", \"petal_width\"]]\n",
    "    X = X.to_dict()\n",
    "\n",
    "    y = row[\"setosa\"]\n",
    "\n",
    "    print(X)\n",
    "    print(y)\n",
    "    break"
   ]
  },
  {
   "cell_type": "code",
   "execution_count": 4,
   "id": "025b68f6-89d8-42ae-ab43-fbd70bb9f05e",
   "metadata": {
    "tags": []
   },
   "outputs": [
    {
     "name": "stdout",
     "output_type": "stream",
     "text": [
      "Requirement already satisfied: river in /Users/chanhuizhihou/anaconda3/lib/python3.10/site-packages (0.18.0)\n",
      "Requirement already satisfied: numpy>=1.25.0 in /Users/chanhuizhihou/anaconda3/lib/python3.10/site-packages (from river) (1.25.0)\n",
      "Requirement already satisfied: scipy>=1.5 in /Users/chanhuizhihou/anaconda3/lib/python3.10/site-packages (from river) (1.11.1)\n",
      "Requirement already satisfied: pandas>=1.3 in /Users/chanhuizhihou/anaconda3/lib/python3.10/site-packages (from river) (1.5.3)\n",
      "Requirement already satisfied: python-dateutil>=2.8.1 in /Users/chanhuizhihou/anaconda3/lib/python3.10/site-packages (from pandas>=1.3->river) (2.8.2)\n",
      "Requirement already satisfied: pytz>=2020.1 in /Users/chanhuizhihou/anaconda3/lib/python3.10/site-packages (from pandas>=1.3->river) (2022.7)\n",
      "Requirement already satisfied: six>=1.5 in /Users/chanhuizhihou/anaconda3/lib/python3.10/site-packages (from python-dateutil>=2.8.1->pandas>=1.3->river) (1.16.0)\n"
     ]
    }
   ],
   "source": [
    "!pip install river\n",
    "from river import linear_model\n",
    "\n",
    "model = linear_model.LogisticRegression()\n",
    "for i, row in data.sample(frac=1).iterrows():\n",
    "    X = row[[\"sepal_length\", \"sepal_width\", \"petal_length\", \"petal_width\"]]\n",
    "    X = X.to_dict()\n",
    "    y = row[\"setosa\"]\n",
    "\n",
    "    model.learn_one(X, y)"
   ]
  },
  {
   "cell_type": "code",
   "execution_count": 5,
   "id": "eec685fe-0908-49b8-b344-44447d75dc5e",
   "metadata": {
    "tags": []
   },
   "outputs": [
    {
     "name": "stdout",
     "output_type": "stream",
     "text": [
      "0       True\n",
      "1       True\n",
      "2       True\n",
      "3       True\n",
      "4       True\n",
      "       ...  \n",
      "145    False\n",
      "146    False\n",
      "147    False\n",
      "148    False\n",
      "149    False\n",
      "Length: 150, dtype: bool\n"
     ]
    }
   ],
   "source": [
    "preds = model.predict_many(\n",
    "    data[[\"sepal_length\", \"sepal_width\", \"petal_length\", \"petal_width\"]]\n",
    ")\n",
    "print(preds)"
   ]
  },
  {
   "cell_type": "code",
   "execution_count": 6,
   "id": "239922bb-ad2c-4b5d-be9f-6a9adc12e0f8",
   "metadata": {
    "tags": []
   },
   "outputs": [
    {
     "data": {
      "text/plain": [
       "1.0"
      ]
     },
     "execution_count": 6,
     "metadata": {},
     "output_type": "execute_result"
    }
   ],
   "source": [
    "from sklearn.metrics import accuracy_score\n",
    "\n",
    "accuracy_score(data[\"setosa\"], preds)"
   ]
  },
  {
   "cell_type": "code",
   "execution_count": 7,
   "id": "4e4ad42a-655b-420a-89c2-11e11a66d894",
   "metadata": {
    "tags": []
   },
   "outputs": [],
   "source": [
    "# add a stratified train test split\n",
    "from sklearn.model_selection import train_test_split\n",
    "\n",
    "train, test = train_test_split(data, stratify=data[\"setosa\"])"
   ]
  },
  {
   "cell_type": "code",
   "execution_count": 8,
   "id": "22432325-d0a4-4def-aff4-31c85455fa56",
   "metadata": {
    "tags": []
   },
   "outputs": [],
   "source": [
    "from river import linear_model, metrics\n",
    "\n",
    "model = linear_model.LogisticRegression()\n",
    "correct = []\n",
    "\n",
    "for i, row in train.sample(frac=1).iterrows():\n",
    "    X = row[[\"sepal_length\", \"sepal_width\", \"petal_length\", \"petal_width\"]]\n",
    "    X = X.to_dict()\n",
    "\n",
    "    y = row[\"setosa\"]\n",
    "\n",
    "    model.predict_one(X)\n",
    "    correct.append(y == model.predict_one(X))\n",
    "\n",
    "    model.learn_one(X, y)"
   ]
  },
  {
   "cell_type": "code",
   "execution_count": 9,
   "id": "58dc4175-21ca-4c66-a65e-83b2d7b66bdc",
   "metadata": {
    "tags": []
   },
   "outputs": [
    {
     "data": {
      "text/plain": [
       "[<matplotlib.lines.Line2D at 0x17de81d50>]"
      ]
     },
     "execution_count": 9,
     "metadata": {},
     "output_type": "execute_result"
    },
    {
     "data": {
      "image/png": "[encoded data removed]",
      "text/plain": [
       "<Figure size 640x480 with 1 Axes>"
      ]
     },
     "metadata": {},
     "output_type": "display_data"
    }
   ],
   "source": [
    "# this model is learning quite stable from the start\n",
    "\n",
    "import matplotlib.pyplot as plt\n",
    "import numpy as np\n",
    "\n",
    "plt.plot(np.cumsum(correct))"
   ]
  },
  {
   "cell_type": "code",
   "execution_count": 10,
   "id": "e0930490-36c1-4ddd-98ca-4bc611c60171",
   "metadata": {
    "tags": []
   },
   "outputs": [
    {
     "data": {
      "text/plain": [
       "0.9736842105263158"
      ]
     },
     "execution_count": 10,
     "metadata": {},
     "output_type": "execute_result"
    }
   ],
   "source": [
    "# model was not so good on out of sample\n",
    "accuracy_score(\n",
    "    test[\"setosa\"],\n",
    "    model.predict_many(\n",
    "        test[[\"sepal_length\", \"sepal_width\", \"petal_length\", \"petal_width\"]]\n",
    "    ),\n",
    ")"
   ]
  },
  {
   "cell_type": "code",
   "execution_count": 11,
   "id": "dc72a1bc-3a0c-4c31-bbb4-117d28020a8f",
   "metadata": {
    "tags": []
   },
   "outputs": [],
   "source": [
    "# add a stratified train test split\n",
    "from sklearn.model_selection import train_test_split\n",
    "\n",
    "train, test = train_test_split(data, stratify=data[\"class\"])"
   ]
  },
  {
   "cell_type": "code",
   "execution_count": 12,
   "id": "c6a82b51-0bed-4b97-9ad9-dad159325e2d",
   "metadata": {
    "tags": []
   },
   "outputs": [],
   "source": [
    "from river import linear_model, metrics, multiclass\n",
    "\n",
    "model = multiclass.OneVsRestClassifier(linear_model.LogisticRegression())\n",
    "correct = []\n",
    "\n",
    "for i, row in train.sample(frac=1).iterrows():\n",
    "    X = row[[\"sepal_length\", \"sepal_width\", \"petal_length\", \"petal_width\"]]\n",
    "    X = X.to_dict()\n",
    "\n",
    "    y = row[\"class\"]\n",
    "\n",
    "    model.predict_one(X)\n",
    "    correct.append(y == model.predict_one(X))\n",
    "\n",
    "    model.learn_one(X, y)"
   ]
  },
  {
   "cell_type": "code",
   "execution_count": 13,
   "id": "289ed98f-b721-41d9-9cdd-2ec8df0dc9ac",
   "metadata": {
    "tags": []
   },
   "outputs": [
    {
     "data": {
      "text/plain": [
       "[<matplotlib.lines.Line2D at 0x17e2c7eb0>]"
      ]
     },
     "execution_count": 13,
     "metadata": {},
     "output_type": "execute_result"
    },
    {
     "data": {
      "image/png": "[encoded data removed]",
      "text/plain": [
       "<Figure size 640x480 with 1 Axes>"
      ]
     },
     "metadata": {},
     "output_type": "display_data"
    }
   ],
   "source": [
    "# this model predicts better after 40 observations\n",
    "\n",
    "import matplotlib.pyplot as plt\n",
    "import numpy as np\n",
    "\n",
    "plt.plot(np.cumsum(correct))"
   ]
  },
  {
   "cell_type": "code",
   "execution_count": 14,
   "id": "62e9471c-6218-4198-af7a-eb779b88e965",
   "metadata": {
    "tags": []
   },
   "outputs": [
    {
     "data": {
      "text/plain": [
       "91     Iris-virginica\n",
       "34        Iris-setosa\n",
       "115    Iris-virginica\n",
       "85     Iris-virginica\n",
       "53     Iris-virginica\n",
       "0         Iris-setosa\n",
       "72     Iris-virginica\n",
       "55     Iris-virginica\n",
       "130    Iris-virginica\n",
       "149    Iris-virginica\n",
       "134    Iris-virginica\n",
       "27        Iris-setosa\n",
       "140    Iris-virginica\n",
       "38        Iris-setosa\n",
       "74     Iris-virginica\n",
       "6         Iris-setosa\n",
       "117    Iris-virginica\n",
       "54     Iris-virginica\n",
       "48        Iris-setosa\n",
       "127    Iris-virginica\n",
       "78     Iris-virginica\n",
       "42        Iris-setosa\n",
       "145    Iris-virginica\n",
       "25        Iris-setosa\n",
       "35        Iris-setosa\n",
       "37        Iris-setosa\n",
       "107    Iris-virginica\n",
       "83     Iris-virginica\n",
       "119    Iris-virginica\n",
       "87     Iris-virginica\n",
       "28        Iris-setosa\n",
       "79     Iris-virginica\n",
       "47        Iris-setosa\n",
       "7         Iris-setosa\n",
       "144    Iris-virginica\n",
       "67     Iris-virginica\n",
       "125    Iris-virginica\n",
       "69     Iris-virginica\n",
       "dtype: object"
      ]
     },
     "execution_count": 14,
     "metadata": {},
     "output_type": "execute_result"
    }
   ],
   "source": [
    "model.predict_many(test[[\"sepal_length\", \"sepal_width\", \"petal_length\", \"petal_width\"]])"
   ]
  },
  {
   "cell_type": "code",
   "execution_count": 15,
   "id": "1d8e4cd9-00c2-4116-aec2-17892529db84",
   "metadata": {
    "tags": []
   },
   "outputs": [
    {
     "data": {
      "text/plain": [
       "0.6578947368421053"
      ]
     },
     "execution_count": 15,
     "metadata": {},
     "output_type": "execute_result"
    }
   ],
   "source": [
    "# model scores 0.63 on the test data\n",
    "from sklearn.metrics import accuracy_score\n",
    "\n",
    "accuracy_score(\n",
    "    test[\"class\"],\n",
    "    model.predict_many(\n",
    "        test[[\"sepal_length\", \"sepal_width\", \"petal_length\", \"petal_width\"]]\n",
    "    ),\n",
    ")"
   ]
  }
 ],
 "metadata": {
  "kernelspec": {
   "display_name": "Python 3 (ipykernel)",
   "language": "python",
   "name": "python3"
  },
  "language_info": {
   "codemirror_mode": {
    "name": "ipython",
    "version": 3
   },
   "file_extension": ".py",
   "mimetype": "text/x-python",
   "name": "python",
   "nbconvert_exporter": "python",
   "pygments_lexer": "ipython3",
   "version": "3.10.9"
  }
 },
 "nbformat": 4,
 "nbformat_minor": 5
}
