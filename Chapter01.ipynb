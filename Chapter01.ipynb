{
 "cells": [
  {
   "cell_type": "code",
   "execution_count": 1,
   "id": "f6377de5-6d00-45a6-b26c-c5ce2514bc91",
   "metadata": {},
   "outputs": [
    {
     "name": "stdout",
     "output_type": "stream",
     "text": [
      "    temperature   pH\n",
      "0            10  5.0\n",
      "1            11  5.5\n",
      "2            10  6.0\n",
      "3            11  5.0\n",
      "4            12  4.5\n",
      "5            11  5.0\n",
      "6            10  4.5\n",
      "7             9  5.0\n",
      "8            10  4.5\n",
      "9            11  5.0\n",
      "10           12  4.0\n",
      "11           11  4.5\n",
      "12            9  5.0\n",
      "13           12  4.5\n",
      "14           11  6.0\n"
     ]
    }
   ],
   "source": [
    "import pandas as pd\n",
    "\n",
    "data_batch = pd.DataFrame(\n",
    "    {\n",
    "        \"temperature\": [10, 11, 10, 11, 12, 11, 10, 9, 10, 11, 12, 11, 9, 12, 11],\n",
    "        \"pH\": [5, 5.5, 6, 5, 4.5, 5, 4.5, 5, 4.5, 5, 4, 4.5, 5, 4.5, 6],\n",
    "    }\n",
    ")\n",
    "\n",
    "print(data_batch)"
   ]
  },
  {
   "cell_type": "code",
   "execution_count": 2,
   "id": "cb3959ba-976a-4d51-9903-bce9d5be235c",
   "metadata": {},
   "outputs": [
    {
     "name": "stdout",
     "output_type": "stream",
     "text": [
      "{\"temperature\":10.0,\"pH\":5.0}\n",
      "{\"temperature\":11.0,\"pH\":5.5}\n",
      "{\"temperature\":10.0,\"pH\":6.0}\n",
      "{\"temperature\":11.0,\"pH\":5.0}\n",
      "{\"temperature\":12.0,\"pH\":4.5}\n",
      "{\"temperature\":11.0,\"pH\":5.0}\n",
      "{\"temperature\":10.0,\"pH\":4.5}\n",
      "{\"temperature\":9.0,\"pH\":5.0}\n",
      "{\"temperature\":10.0,\"pH\":4.5}\n",
      "{\"temperature\":11.0,\"pH\":5.0}\n",
      "{\"temperature\":12.0,\"pH\":4.0}\n",
      "{\"temperature\":11.0,\"pH\":4.5}\n",
      "{\"temperature\":9.0,\"pH\":5.0}\n",
      "{\"temperature\":12.0,\"pH\":4.5}\n",
      "{\"temperature\":11.0,\"pH\":6.0}\n"
     ]
    }
   ],
   "source": [
    "data_iterable = data_batch.iterrows()\n",
    "\n",
    "for i, new_datapoint in data_iterable:\n",
    "    print(new_datapoint.to_json())"
   ]
  },
  {
   "cell_type": "code",
   "execution_count": 3,
   "id": "e5b6c0eb-d8d0-47cf-a4f4-27f5e0dec9b0",
   "metadata": {},
   "outputs": [],
   "source": [
    "def super_simple_alert(datapoint):\n",
    "    if datapoint[\"temperature\"] < 10:\n",
    "        print(\"this is a real time alert. temp too low\")"
   ]
  },
  {
   "cell_type": "code",
   "execution_count": 4,
   "id": "a2b2e882-bd03-4190-8f4f-52743a2f1ad6",
   "metadata": {},
   "outputs": [
    {
     "name": "stdout",
     "output_type": "stream",
     "text": [
      "{\"temperature\":10.0,\"pH\":5.0}\n",
      "{\"temperature\":11.0,\"pH\":5.5}\n",
      "{\"temperature\":10.0,\"pH\":6.0}\n",
      "{\"temperature\":11.0,\"pH\":5.0}\n",
      "{\"temperature\":12.0,\"pH\":4.5}\n",
      "{\"temperature\":11.0,\"pH\":5.0}\n",
      "{\"temperature\":10.0,\"pH\":4.5}\n",
      "{\"temperature\":9.0,\"pH\":5.0}\n",
      "this is a real time alert. temp too low\n",
      "{\"temperature\":10.0,\"pH\":4.5}\n",
      "{\"temperature\":11.0,\"pH\":5.0}\n",
      "{\"temperature\":12.0,\"pH\":4.0}\n",
      "{\"temperature\":11.0,\"pH\":4.5}\n",
      "{\"temperature\":9.0,\"pH\":5.0}\n",
      "this is a real time alert. temp too low\n",
      "{\"temperature\":12.0,\"pH\":4.5}\n",
      "{\"temperature\":11.0,\"pH\":6.0}\n"
     ]
    }
   ],
   "source": [
    "data_iterable = data_batch.iterrows()\n",
    "\n",
    "for i, new_datapoint in data_iterable:\n",
    "    print(new_datapoint.to_json())\n",
    "    super_simple_alert(new_datapoint)"
   ]
  },
  {
   "cell_type": "code",
   "execution_count": 5,
   "id": "c4348202-ca5b-4702-b5a9-cb1b03bcebc0",
   "metadata": {},
   "outputs": [],
   "source": [
    "def super_simple_alert(datapoint):\n",
    "    if datapoint[\"temperature\"] < 10:\n",
    "        print(\"this is a real time alert. temp too low\")\n",
    "    if datapoint[\"pH\"] > 5.5:\n",
    "        print(\"this is a real time alert. pH too high\")"
   ]
  },
  {
   "cell_type": "code",
   "execution_count": 6,
   "id": "74850f1e-0b41-410f-aaca-dc4ea4827fc2",
   "metadata": {
    "tags": []
   },
   "outputs": [
    {
     "name": "stdout",
     "output_type": "stream",
     "text": [
      "{\"temperature\":10.0,\"pH\":5.0}\n",
      "{\"temperature\":11.0,\"pH\":5.5}\n",
      "{\"temperature\":10.0,\"pH\":6.0}\n",
      "this is a real time alert. pH too high\n",
      "{\"temperature\":11.0,\"pH\":5.0}\n",
      "{\"temperature\":12.0,\"pH\":4.5}\n",
      "{\"temperature\":11.0,\"pH\":5.0}\n",
      "{\"temperature\":10.0,\"pH\":4.5}\n",
      "{\"temperature\":9.0,\"pH\":5.0}\n",
      "this is a real time alert. temp too low\n",
      "{\"temperature\":10.0,\"pH\":4.5}\n",
      "{\"temperature\":11.0,\"pH\":5.0}\n",
      "{\"temperature\":12.0,\"pH\":4.0}\n",
      "{\"temperature\":11.0,\"pH\":4.5}\n",
      "{\"temperature\":9.0,\"pH\":5.0}\n",
      "this is a real time alert. temp too low\n",
      "{\"temperature\":12.0,\"pH\":4.5}\n",
      "{\"temperature\":11.0,\"pH\":6.0}\n",
      "this is a real time alert. pH too high\n"
     ]
    }
   ],
   "source": [
    "data_iterable = data_batch.iterrows()\n",
    "\n",
    "for i, new_datapoint in data_iterable:\n",
    "    print(new_datapoint.to_json())\n",
    "    super_simple_alert(new_datapoint)"
   ]
  }
 ],
 "metadata": {
  "kernelspec": {
   "display_name": "Python 3 (ipykernel)",
   "language": "python",
   "name": "python3"
  },
  "language_info": {
   "codemirror_mode": {
    "name": "ipython",
    "version": 3
   },
   "file_extension": ".py",
   "mimetype": "text/x-python",
   "name": "python",
   "nbconvert_exporter": "python",
   "pygments_lexer": "ipython3",
   "version": "3.10.9"
  }
 },
 "nbformat": 4,
 "nbformat_minor": 5
}
